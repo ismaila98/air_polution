{
 "cells": [
  {
   "cell_type": "code",
   "execution_count": 1,
   "id": "3c229731",
   "metadata": {},
   "outputs": [],
   "source": [
    "import os\n",
    "import pandas as pd\n",
    "import numpy as np\n",
    "import matplotlib.pyplot as plt\n",
    "import scipy.stats as stats\n",
    "import json"
   ]
  },
  {
   "cell_type": "code",
   "execution_count": 16,
   "id": "707b4917",
   "metadata": {},
   "outputs": [
    {
     "name": "stdout",
     "output_type": "stream",
     "text": [
      "                 Country Gross domestic product ($ billions)  \\\n",
      "0            Afghanistan                                20.1   \n",
      "1                Albania                                15.1   \n",
      "2                Algeria                                 145   \n",
      "3         American Samoa                                 0.7   \n",
      "4                Andorra                                 2.9   \n",
      "..                   ...                                 ...   \n",
      "221   Sub-Saharan Africa                            1,719.00   \n",
      "222           Low income                               508.7   \n",
      "223  Lower middle income                            7,617.20   \n",
      "224  Upper middle income                           22,851.40   \n",
      "225          High income                           53,874.60   \n",
      "\n",
      "    Agriculture (% of GDP) Industry (% of GDP) Manufacturing (% of GDP)  \\\n",
      "0                     26.8                  14                      7.7   \n",
      "1                     19.3                  20                        6   \n",
      "2                     14.1                32.7                     18.8   \n",
      "3                       ..                  ..                     15.2   \n",
      "4                      0.6                12.7                      3.7   \n",
      "..                     ...                 ...                      ...   \n",
      "221                   18.4                26.3                     11.1   \n",
      "222                   25.2                26.5                       11   \n",
      "223                   16.1                28.7                     15.6   \n",
      "224                      7                34.1                     22.1   \n",
      "225                    1.3                  22                     13.2   \n",
      "\n",
      "    Services (% of GDP)  \n",
      "0                  54.7  \n",
      "1                  48.4  \n",
      "2                  48.7  \n",
      "3                    ..  \n",
      "4                  79.8  \n",
      "..                  ...  \n",
      "221                49.4  \n",
      "222                41.6  \n",
      "223                49.1  \n",
      "224                55.9  \n",
      "225                  71  \n",
      "\n",
      "[226 rows x 6 columns]\n"
     ]
    }
   ],
   "source": [
    "GDP_Data =\"data/gdp_2020.csv\"\n",
    "\n",
    "GDP = pd.read_csv(GDP_Data)\n",
    "GDP_All=pd.DataFrame(GDP)\n",
    "GDP_All=GDP_All.dropna()\n",
    "print(GDP_All)\n"
   ]
  },
  {
   "cell_type": "code",
   "execution_count": 19,
   "id": "c53d3d17",
   "metadata": {},
   "outputs": [
    {
     "name": "stdout",
     "output_type": "stream",
     "text": [
      "          Country Gross domestic product ($ billions) Agriculture (% of GDP)  \\\n",
      "58        Ecuador                                99.3                    9.8   \n",
      "136   Netherlands                               909.8                    1.6   \n",
      "13   Bahamas, The                                 9.7                    0.8   \n",
      "\n",
      "    Industry (% of GDP) Manufacturing (% of GDP) Services (% of GDP)  \n",
      "58                 30.7                     16.5                53.3  \n",
      "136                17.9                     10.8                69.6  \n",
      "13                   12                      1.4                79.1  \n"
     ]
    }
   ],
   "source": [
    "Top_GDP=GDP_All.sort_values(['Gross domestic product ($ billions)'],ascending=False)\n",
    "Top_3_GDP=Top_GDP.head(3)\n",
    "print(Top_3_GDP)"
   ]
  },
  {
   "cell_type": "code",
   "execution_count": 21,
   "id": "4f32e260",
   "metadata": {},
   "outputs": [
    {
     "data": {
      "image/png": "[encoded data removed]",
      "text/plain": [
       "<Figure size 640x480 with 1 Axes>"
      ]
     },
     "metadata": {},
     "output_type": "display_data"
    }
   ],
   "source": [
    "Ecuador = np.array([9.8, 30.7, 16.5, 53.3])\n",
    "\n",
    "plt.pie(Ecuador)\n",
    "plt.show() "
   ]
  },
  {
   "cell_type": "code",
   "execution_count": null,
   "id": "0338f59a",
   "metadata": {},
   "outputs": [],
   "source": []
  },
  {
   "cell_type": "code",
   "execution_count": null,
   "id": "e108d205",
   "metadata": {},
   "outputs": [],
   "source": []
  }
 ],
 "metadata": {
  "kernelspec": {
   "display_name": "Python 3 (ipykernel)",
   "language": "python",
   "name": "python3"
  },
  "language_info": {
   "codemirror_mode": {
    "name": "ipython",
    "version": 3
   },
   "file_extension": ".py",
   "mimetype": "text/x-python",
   "name": "python",
   "nbconvert_exporter": "python",
   "pygments_lexer": "ipython3",
   "version": "3.9.13"
  }
 },
 "nbformat": 4,
 "nbformat_minor": 5
}
