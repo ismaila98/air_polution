{
 "cells": [
  {
   "cell_type": "code",
   "execution_count": null,
   "id": "7f7c7144",
   "metadata": {},
   "outputs": [],
   "source": [
    "#code for the dropdown\n",
    "<!doctype html>\n",
    "<html>\n",
    "  <head>\n",
    "    <title>Country Dropdown</title>\n",
    "  </head>\n",
    "  <body>\n",
    "    <form action=\"/process\" method=\"post\">\n",
    "      <label for=\"country_dropdown\">Select a country:</label>\n",
    "      <select name=\"country_dropdown\" id=\"country_dropdown\">\n",
    "        {% for country in country_list %}\n",
    "        <option value=\"{{ country }}\">{{ country }}</option>\n",
    "        {% endfor %}\n",
    "      </select>\n",
    "      <br><br>\n",
    "      <input type=\"submit\" value=\"Submit\">\n",
    "    </form>\n",
    "  </body>\n",
    "</html>\n"
   ]
  }
 ],
 "metadata": {
  "kernelspec": {
   "display_name": "Python 3 (ipykernel)",
   "language": "python",
   "name": "python3"
  },
  "language_info": {
   "codemirror_mode": {
    "name": "ipython",
    "version": 3
   },
   "file_extension": ".py",
   "mimetype": "text/x-python",
   "name": "python",
   "nbconvert_exporter": "python",
   "pygments_lexer": "ipython3",
   "version": "3.9.13"
  }
 },
 "nbformat": 4,
 "nbformat_minor": 5
}
