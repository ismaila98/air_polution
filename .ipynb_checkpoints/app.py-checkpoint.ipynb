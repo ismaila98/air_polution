{
 "cells": [
  {
   "cell_type": "code",
   "execution_count": null,
   "id": "79ac72d9",
   "metadata": {},
   "outputs": [],
   "source": [
    "from flask import Flask, render_template, jsonify\n",
    "from sqlalchemy import create_engine"
   ]
  },
  {
   "cell_type": "code",
   "execution_count": null,
   "id": "3d746039",
   "metadata": {},
   "outputs": [],
   "source": [
    "#create app\n",
    "app = Flask(__name__)\n",
    "#connect to database\n",
    "engine = create_engine('sqlite:///db.sqlite')\n"
   ]
  },
  {
   "cell_type": "code",
   "execution_count": null,
   "id": "b3a6c345",
   "metadata": {},
   "outputs": [],
   "source": [
    "#define routes\n",
    "@app.route('/')\n",
    "def index():\n",
    "    return render_template('index.html')\n",
    "\n",
    "@app.route('/heatmap')\n",
    "def heatmap():\n",
    "    conn = engine.connect()\n",
    "    result = conn.execute(\"SELECT country, lat, lng, air_quality, water_pollution, population, mortality_rate FROM data\")\n",
    "    data_dict = {}\n",
    "    for row in result:\n",
    "        country = row[0]\n",
    "        lat = row[1]\n",
    "        lng = row[2]\n",
    "        air_quality = row[3]\n",
    "        water_pollution = row[4]\n",
    "        population = row[5]\n",
    "        mortality_rate = row[6]\n",
    "        data_dict[country] = {'lat': lat,\n",
    "                              'lng': lng,\n",
    "                              'air_quality': air_quality,\n",
    "                              'water_pollution': water_pollution,\n",
    "                              'population': population,\n",
    "                              'mortality_rate': mortality_rate}\n",
    "    conn.close()\n",
    "    return jsonify(data_dict)\n"
   ]
  },
  {
   "cell_type": "code",
   "execution_count": null,
   "id": "b71592d0",
   "metadata": {},
   "outputs": [],
   "source": [
    "if __name__ == '__main__':\n",
    "    app.run(debug=True, port=5000)"
   ]
  },
  {
   "cell_type": "code",
   "execution_count": null,
   "id": "8667e6b0",
   "metadata": {},
   "outputs": [],
   "source": []
  }
 ],
 "metadata": {
  "kernelspec": {
   "display_name": "Python 3 (ipykernel)",
   "language": "python",
   "name": "python3"
  },
  "language_info": {
   "codemirror_mode": {
    "name": "ipython",
    "version": 3
   },
   "file_extension": ".py",
   "mimetype": "text/x-python",
   "name": "python",
   "nbconvert_exporter": "python",
   "pygments_lexer": "ipython3",
   "version": "3.9.13"
  }
 },
 "nbformat": 4,
 "nbformat_minor": 5
}
